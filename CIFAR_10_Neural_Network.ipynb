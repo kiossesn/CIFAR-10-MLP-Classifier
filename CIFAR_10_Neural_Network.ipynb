{
  "cells": [
    {
      "cell_type": "markdown",
      "metadata": {
        "id": "8gm-0EloEEC4"
      },
      "source": [
        "**Νευρωνικά Δίκτυα - Βαθιά Μάθηση**\n",
        "\n",
        "Νίκος Κιοσσές\n",
        "\n",
        "11/2024"
      ]
    },
    {
      "cell_type": "markdown",
      "metadata": {
        "id": "MLcaou2rEOSO"
      },
      "source": [
        "###Εισαγωγή Βιβλιοθηκών"
      ]
    },
    {
      "cell_type": "code",
      "execution_count": 16,
      "metadata": {
        "id": "bGQNRkTSD6cv"
      },
      "outputs": [],
      "source": [
        "import numpy as np\n",
        "from sklearn.metrics import accuracy_score, precision_score, recall_score, f1_score\n",
        "import time\n",
        "import matplotlib.pyplot as plt\n",
        "from tqdm import tqdm\n",
        "import torch\n",
        "import torch.nn as nn\n",
        "import torch.optim as optim\n",
        "import torchvision\n",
        "import torchvision.transforms as transforms\n",
        "from torch.utils.data import DataLoader, TensorDataset\n",
        "import torch.nn.init as init\n",
        "from sklearn.decomposition import PCA"
      ]
    },
    {
      "cell_type": "markdown",
      "metadata": {
        "id": "G1LVVDm4JHLM"
      },
      "source": [
        "###Ορισμός παραμέτρων"
      ]
    },
    {
      "cell_type": "code",
      "execution_count": 17,
      "metadata": {
        "id": "W5lphrFhJF0o"
      },
      "outputs": [],
      "source": [
        "batch_size = 50\n",
        "num_classes = 10\n",
        "learning_rate = 0.001\n",
        "num_epochs = 50\n",
        "#pca_n_components = 400\n",
        "early_stop_patience = 3"
      ]
    },
    {
      "cell_type": "markdown",
      "metadata": {
        "id": "nDj1EZwMEXgE"
      },
      "source": [
        "###Κατέβασμα και προετοιμασία δεδομένων χωρίς PCA"
      ]
    },
    {
      "cell_type": "markdown",
      "metadata": {
        "id": "VBaiaY9__GcL"
      },
      "source": [
        "**Προεπεξεργασία δεδομένων**"
      ]
    },
    {
      "cell_type": "code",
      "execution_count": 18,
      "metadata": {
        "id": "6Rs1mih4EYHu"
      },
      "outputs": [],
      "source": [
        "transform = transforms.Compose([\n",
        "\n",
        "    # Τυχαία αναστροφή της εικόνας\n",
        "    transforms.RandomHorizontalFlip(),\n",
        "\n",
        "    # Αλλαγή στα χρώματα των εικόνων για ανίχνευση πολύπλοκων μοτίβο\n",
        "    transforms.ColorJitter(brightness=0.2, contrast=0.2, saturation=0.2, hue=0.1),\n",
        "\n",
        "    # Προσθήκη τυχαίας περιστροφής\n",
        "    transforms.RandomRotation(15),\n",
        "\n",
        "    transforms.ToTensor(),\n",
        "\n",
        "    # Κανονικοποίηση των τιμών των δειγμάτων με την μέση τιμή και την τυπική απόκλιση κάθε χρώματος. pixel = (pixel-mean[color]) / std[color]\n",
        "    # CIFAR-10 mean[R,G,B] = [0.4914, 0.4822, 0.4465]\n",
        "    # CIFAR-10 std[R,G,B] = [0.2023, 0.1994, 0.2010]\n",
        "    transforms.Normalize((0.4914, 0.4822, 0.4465), (0.2023, 0.1994, 0.2010))\n",
        "])"
      ]
    },
    {
      "cell_type": "markdown",
      "metadata": {
        "id": "WvG5tY-c_M6f"
      },
      "source": [
        "**Κατέβασμα δεδομένων**"
      ]
    },
    {
      "cell_type": "code",
      "execution_count": 19,
      "metadata": {
        "colab": {
          "base_uri": "https://localhost:8080/"
        },
        "id": "Y6ewanwpEaf7",
        "outputId": "619e5066-0866-4465-f688-d3787187a094"
      },
      "outputs": [
        {
          "output_type": "stream",
          "name": "stdout",
          "text": [
            "Files already downloaded and verified\n",
            "Files already downloaded and verified\n"
          ]
        }
      ],
      "source": [
        "train_dataset = torchvision.datasets.CIFAR10(root='./data', train=True, download=True, transform=transform)\n",
        "test_dataset = torchvision.datasets.CIFAR10(root='./data', train=False, download=True, transform=transform)"
      ]
    },
    {
      "cell_type": "markdown",
      "metadata": {
        "id": "PFtiRiEb_gz1"
      },
      "source": [
        "**Δημιουργία Dataloader**"
      ]
    },
    {
      "cell_type": "code",
      "execution_count": 20,
      "metadata": {
        "id": "Bo9lX-UX_a_E"
      },
      "outputs": [],
      "source": [
        "train_loader = DataLoader(train_dataset, batch_size=batch_size, shuffle=True)\n",
        "test_loader = DataLoader(test_dataset, batch_size=batch_size, shuffle=False)"
      ]
    },
    {
      "cell_type": "markdown",
      "metadata": {
        "id": "WcsaNFGD-s1K"
      },
      "source": [
        "###Κατέβασμα και προετοιμασία δεδομένων με PCA"
      ]
    },
    {
      "cell_type": "markdown",
      "source": [
        "**Προεπεξεργασία δεδομένων**"
      ],
      "metadata": {
        "id": "gFpDAgRDAo14"
      }
    },
    {
      "cell_type": "code",
      "source": [
        "transform = transforms.Compose([\n",
        "    transforms.ToTensor(),\n",
        "])"
      ],
      "metadata": {
        "id": "67meJ-SiAll9"
      },
      "execution_count": 52,
      "outputs": []
    },
    {
      "cell_type": "markdown",
      "source": [
        "**Κατέβασμα δεδομένων**"
      ],
      "metadata": {
        "id": "h1rhpM8HBCrX"
      }
    },
    {
      "cell_type": "code",
      "source": [
        "train_dataset = torchvision.datasets.CIFAR10(root='./data', train=True, download=True, transform=transform)\n",
        "test_dataset = torchvision.datasets.CIFAR10(root='./data', train=False, download=True, transform=transform)"
      ],
      "metadata": {
        "colab": {
          "base_uri": "https://localhost:8080/",
          "height": 321
        },
        "id": "tRxz8D_QBCDH",
        "outputId": "b1a4853f-c6e3-48e6-c3a9-cc43c5dde5b4"
      },
      "execution_count": 53,
      "outputs": [
        {
          "output_type": "stream",
          "name": "stdout",
          "text": [
            "Files already downloaded and verified\n"
          ]
        },
        {
          "output_type": "error",
          "ename": "KeyboardInterrupt",
          "evalue": "",
          "traceback": [
            "\u001b[0;31m---------------------------------------------------------------------------\u001b[0m",
            "\u001b[0;31mKeyboardInterrupt\u001b[0m                         Traceback (most recent call last)",
            "\u001b[0;32m<ipython-input-53-e235108889de>\u001b[0m in \u001b[0;36m<cell line: 2>\u001b[0;34m()\u001b[0m\n\u001b[1;32m      1\u001b[0m \u001b[0mtrain_dataset\u001b[0m \u001b[0;34m=\u001b[0m \u001b[0mtorchvision\u001b[0m\u001b[0;34m.\u001b[0m\u001b[0mdatasets\u001b[0m\u001b[0;34m.\u001b[0m\u001b[0mCIFAR10\u001b[0m\u001b[0;34m(\u001b[0m\u001b[0mroot\u001b[0m\u001b[0;34m=\u001b[0m\u001b[0;34m'./data'\u001b[0m\u001b[0;34m,\u001b[0m \u001b[0mtrain\u001b[0m\u001b[0;34m=\u001b[0m\u001b[0;32mTrue\u001b[0m\u001b[0;34m,\u001b[0m \u001b[0mdownload\u001b[0m\u001b[0;34m=\u001b[0m\u001b[0;32mTrue\u001b[0m\u001b[0;34m,\u001b[0m \u001b[0mtransform\u001b[0m\u001b[0;34m=\u001b[0m\u001b[0mtransform\u001b[0m\u001b[0;34m)\u001b[0m\u001b[0;34m\u001b[0m\u001b[0;34m\u001b[0m\u001b[0m\n\u001b[0;32m----> 2\u001b[0;31m \u001b[0mtest_dataset\u001b[0m \u001b[0;34m=\u001b[0m \u001b[0mtorchvision\u001b[0m\u001b[0;34m.\u001b[0m\u001b[0mdatasets\u001b[0m\u001b[0;34m.\u001b[0m\u001b[0mCIFAR10\u001b[0m\u001b[0;34m(\u001b[0m\u001b[0mroot\u001b[0m\u001b[0;34m=\u001b[0m\u001b[0;34m'./data'\u001b[0m\u001b[0;34m,\u001b[0m \u001b[0mtrain\u001b[0m\u001b[0;34m=\u001b[0m\u001b[0;32mFalse\u001b[0m\u001b[0;34m,\u001b[0m \u001b[0mdownload\u001b[0m\u001b[0;34m=\u001b[0m\u001b[0;32mTrue\u001b[0m\u001b[0;34m,\u001b[0m \u001b[0mtransform\u001b[0m\u001b[0;34m=\u001b[0m\u001b[0mtransform\u001b[0m\u001b[0;34m)\u001b[0m\u001b[0;34m\u001b[0m\u001b[0;34m\u001b[0m\u001b[0m\n\u001b[0m",
            "\u001b[0;32m/usr/local/lib/python3.10/dist-packages/torchvision/datasets/cifar.py\u001b[0m in \u001b[0;36m__init__\u001b[0;34m(self, root, train, transform, target_transform, download)\u001b[0m\n\u001b[1;32m     64\u001b[0m \u001b[0;34m\u001b[0m\u001b[0m\n\u001b[1;32m     65\u001b[0m         \u001b[0;32mif\u001b[0m \u001b[0mdownload\u001b[0m\u001b[0;34m:\u001b[0m\u001b[0;34m\u001b[0m\u001b[0;34m\u001b[0m\u001b[0m\n\u001b[0;32m---> 66\u001b[0;31m             \u001b[0mself\u001b[0m\u001b[0;34m.\u001b[0m\u001b[0mdownload\u001b[0m\u001b[0;34m(\u001b[0m\u001b[0;34m)\u001b[0m\u001b[0;34m\u001b[0m\u001b[0;34m\u001b[0m\u001b[0m\n\u001b[0m\u001b[1;32m     67\u001b[0m \u001b[0;34m\u001b[0m\u001b[0m\n\u001b[1;32m     68\u001b[0m         \u001b[0;32mif\u001b[0m \u001b[0;32mnot\u001b[0m \u001b[0mself\u001b[0m\u001b[0;34m.\u001b[0m\u001b[0m_check_integrity\u001b[0m\u001b[0;34m(\u001b[0m\u001b[0;34m)\u001b[0m\u001b[0;34m:\u001b[0m\u001b[0;34m\u001b[0m\u001b[0;34m\u001b[0m\u001b[0m\n",
            "\u001b[0;32m/usr/local/lib/python3.10/dist-packages/torchvision/datasets/cifar.py\u001b[0m in \u001b[0;36mdownload\u001b[0;34m(self)\u001b[0m\n\u001b[1;32m    135\u001b[0m \u001b[0;34m\u001b[0m\u001b[0m\n\u001b[1;32m    136\u001b[0m     \u001b[0;32mdef\u001b[0m \u001b[0mdownload\u001b[0m\u001b[0;34m(\u001b[0m\u001b[0mself\u001b[0m\u001b[0;34m)\u001b[0m \u001b[0;34m->\u001b[0m \u001b[0;32mNone\u001b[0m\u001b[0;34m:\u001b[0m\u001b[0;34m\u001b[0m\u001b[0;34m\u001b[0m\u001b[0m\n\u001b[0;32m--> 137\u001b[0;31m         \u001b[0;32mif\u001b[0m \u001b[0mself\u001b[0m\u001b[0;34m.\u001b[0m\u001b[0m_check_integrity\u001b[0m\u001b[0;34m(\u001b[0m\u001b[0;34m)\u001b[0m\u001b[0;34m:\u001b[0m\u001b[0;34m\u001b[0m\u001b[0;34m\u001b[0m\u001b[0m\n\u001b[0m\u001b[1;32m    138\u001b[0m             \u001b[0mprint\u001b[0m\u001b[0;34m(\u001b[0m\u001b[0;34m\"Files already downloaded and verified\"\u001b[0m\u001b[0;34m)\u001b[0m\u001b[0;34m\u001b[0m\u001b[0;34m\u001b[0m\u001b[0m\n\u001b[1;32m    139\u001b[0m             \u001b[0;32mreturn\u001b[0m\u001b[0;34m\u001b[0m\u001b[0;34m\u001b[0m\u001b[0m\n",
            "\u001b[0;32m/usr/local/lib/python3.10/dist-packages/torchvision/datasets/cifar.py\u001b[0m in \u001b[0;36m_check_integrity\u001b[0;34m(self)\u001b[0m\n\u001b[1;32m    130\u001b[0m         \u001b[0;32mfor\u001b[0m \u001b[0mfilename\u001b[0m\u001b[0;34m,\u001b[0m \u001b[0mmd5\u001b[0m \u001b[0;32min\u001b[0m \u001b[0mself\u001b[0m\u001b[0;34m.\u001b[0m\u001b[0mtrain_list\u001b[0m \u001b[0;34m+\u001b[0m \u001b[0mself\u001b[0m\u001b[0;34m.\u001b[0m\u001b[0mtest_list\u001b[0m\u001b[0;34m:\u001b[0m\u001b[0;34m\u001b[0m\u001b[0;34m\u001b[0m\u001b[0m\n\u001b[1;32m    131\u001b[0m             \u001b[0mfpath\u001b[0m \u001b[0;34m=\u001b[0m \u001b[0mos\u001b[0m\u001b[0;34m.\u001b[0m\u001b[0mpath\u001b[0m\u001b[0;34m.\u001b[0m\u001b[0mjoin\u001b[0m\u001b[0;34m(\u001b[0m\u001b[0mself\u001b[0m\u001b[0;34m.\u001b[0m\u001b[0mroot\u001b[0m\u001b[0;34m,\u001b[0m \u001b[0mself\u001b[0m\u001b[0;34m.\u001b[0m\u001b[0mbase_folder\u001b[0m\u001b[0;34m,\u001b[0m \u001b[0mfilename\u001b[0m\u001b[0;34m)\u001b[0m\u001b[0;34m\u001b[0m\u001b[0;34m\u001b[0m\u001b[0m\n\u001b[0;32m--> 132\u001b[0;31m             \u001b[0;32mif\u001b[0m \u001b[0;32mnot\u001b[0m \u001b[0mcheck_integrity\u001b[0m\u001b[0;34m(\u001b[0m\u001b[0mfpath\u001b[0m\u001b[0;34m,\u001b[0m \u001b[0mmd5\u001b[0m\u001b[0;34m)\u001b[0m\u001b[0;34m:\u001b[0m\u001b[0;34m\u001b[0m\u001b[0;34m\u001b[0m\u001b[0m\n\u001b[0m\u001b[1;32m    133\u001b[0m                 \u001b[0;32mreturn\u001b[0m \u001b[0;32mFalse\u001b[0m\u001b[0;34m\u001b[0m\u001b[0;34m\u001b[0m\u001b[0m\n\u001b[1;32m    134\u001b[0m         \u001b[0;32mreturn\u001b[0m \u001b[0;32mTrue\u001b[0m\u001b[0;34m\u001b[0m\u001b[0;34m\u001b[0m\u001b[0m\n",
            "\u001b[0;32m/usr/local/lib/python3.10/dist-packages/torchvision/datasets/utils.py\u001b[0m in \u001b[0;36mcheck_integrity\u001b[0;34m(fpath, md5)\u001b[0m\n\u001b[1;32m     56\u001b[0m     \u001b[0;32mif\u001b[0m \u001b[0mmd5\u001b[0m \u001b[0;32mis\u001b[0m \u001b[0;32mNone\u001b[0m\u001b[0;34m:\u001b[0m\u001b[0;34m\u001b[0m\u001b[0;34m\u001b[0m\u001b[0m\n\u001b[1;32m     57\u001b[0m         \u001b[0;32mreturn\u001b[0m \u001b[0;32mTrue\u001b[0m\u001b[0;34m\u001b[0m\u001b[0;34m\u001b[0m\u001b[0m\n\u001b[0;32m---> 58\u001b[0;31m     \u001b[0;32mreturn\u001b[0m \u001b[0mcheck_md5\u001b[0m\u001b[0;34m(\u001b[0m\u001b[0mfpath\u001b[0m\u001b[0;34m,\u001b[0m \u001b[0mmd5\u001b[0m\u001b[0;34m)\u001b[0m\u001b[0;34m\u001b[0m\u001b[0;34m\u001b[0m\u001b[0m\n\u001b[0m\u001b[1;32m     59\u001b[0m \u001b[0;34m\u001b[0m\u001b[0m\n\u001b[1;32m     60\u001b[0m \u001b[0;34m\u001b[0m\u001b[0m\n",
            "\u001b[0;32m/usr/local/lib/python3.10/dist-packages/torchvision/datasets/utils.py\u001b[0m in \u001b[0;36mcheck_md5\u001b[0;34m(fpath, md5, **kwargs)\u001b[0m\n\u001b[1;32m     48\u001b[0m \u001b[0;34m\u001b[0m\u001b[0m\n\u001b[1;32m     49\u001b[0m \u001b[0;32mdef\u001b[0m \u001b[0mcheck_md5\u001b[0m\u001b[0;34m(\u001b[0m\u001b[0mfpath\u001b[0m\u001b[0;34m:\u001b[0m \u001b[0mUnion\u001b[0m\u001b[0;34m[\u001b[0m\u001b[0mstr\u001b[0m\u001b[0;34m,\u001b[0m \u001b[0mpathlib\u001b[0m\u001b[0;34m.\u001b[0m\u001b[0mPath\u001b[0m\u001b[0;34m]\u001b[0m\u001b[0;34m,\u001b[0m \u001b[0mmd5\u001b[0m\u001b[0;34m:\u001b[0m \u001b[0mstr\u001b[0m\u001b[0;34m,\u001b[0m \u001b[0;34m**\u001b[0m\u001b[0mkwargs\u001b[0m\u001b[0;34m:\u001b[0m \u001b[0mAny\u001b[0m\u001b[0;34m)\u001b[0m \u001b[0;34m->\u001b[0m \u001b[0mbool\u001b[0m\u001b[0;34m:\u001b[0m\u001b[0;34m\u001b[0m\u001b[0;34m\u001b[0m\u001b[0m\n\u001b[0;32m---> 50\u001b[0;31m     \u001b[0;32mreturn\u001b[0m \u001b[0mmd5\u001b[0m \u001b[0;34m==\u001b[0m \u001b[0mcalculate_md5\u001b[0m\u001b[0;34m(\u001b[0m\u001b[0mfpath\u001b[0m\u001b[0;34m,\u001b[0m \u001b[0;34m**\u001b[0m\u001b[0mkwargs\u001b[0m\u001b[0;34m)\u001b[0m\u001b[0;34m\u001b[0m\u001b[0;34m\u001b[0m\u001b[0m\n\u001b[0m\u001b[1;32m     51\u001b[0m \u001b[0;34m\u001b[0m\u001b[0m\n\u001b[1;32m     52\u001b[0m \u001b[0;34m\u001b[0m\u001b[0m\n",
            "\u001b[0;32m/usr/local/lib/python3.10/dist-packages/torchvision/datasets/utils.py\u001b[0m in \u001b[0;36mcalculate_md5\u001b[0;34m(fpath, chunk_size)\u001b[0m\n\u001b[1;32m     42\u001b[0m         \u001b[0mmd5\u001b[0m \u001b[0;34m=\u001b[0m \u001b[0mhashlib\u001b[0m\u001b[0;34m.\u001b[0m\u001b[0mmd5\u001b[0m\u001b[0;34m(\u001b[0m\u001b[0;34m)\u001b[0m\u001b[0;34m\u001b[0m\u001b[0;34m\u001b[0m\u001b[0m\n\u001b[1;32m     43\u001b[0m     \u001b[0;32mwith\u001b[0m \u001b[0mopen\u001b[0m\u001b[0;34m(\u001b[0m\u001b[0mfpath\u001b[0m\u001b[0;34m,\u001b[0m \u001b[0;34m\"rb\"\u001b[0m\u001b[0;34m)\u001b[0m \u001b[0;32mas\u001b[0m \u001b[0mf\u001b[0m\u001b[0;34m:\u001b[0m\u001b[0;34m\u001b[0m\u001b[0;34m\u001b[0m\u001b[0m\n\u001b[0;32m---> 44\u001b[0;31m         \u001b[0;32mwhile\u001b[0m \u001b[0mchunk\u001b[0m \u001b[0;34m:=\u001b[0m \u001b[0mf\u001b[0m\u001b[0;34m.\u001b[0m\u001b[0mread\u001b[0m\u001b[0;34m(\u001b[0m\u001b[0mchunk_size\u001b[0m\u001b[0;34m)\u001b[0m\u001b[0;34m:\u001b[0m\u001b[0;34m\u001b[0m\u001b[0;34m\u001b[0m\u001b[0m\n\u001b[0m\u001b[1;32m     45\u001b[0m             \u001b[0mmd5\u001b[0m\u001b[0;34m.\u001b[0m\u001b[0mupdate\u001b[0m\u001b[0;34m(\u001b[0m\u001b[0mchunk\u001b[0m\u001b[0;34m)\u001b[0m\u001b[0;34m\u001b[0m\u001b[0;34m\u001b[0m\u001b[0m\n\u001b[1;32m     46\u001b[0m     \u001b[0;32mreturn\u001b[0m \u001b[0mmd5\u001b[0m\u001b[0;34m.\u001b[0m\u001b[0mhexdigest\u001b[0m\u001b[0;34m(\u001b[0m\u001b[0;34m)\u001b[0m\u001b[0;34m\u001b[0m\u001b[0;34m\u001b[0m\u001b[0m\n",
            "\u001b[0;31mKeyboardInterrupt\u001b[0m: "
          ]
        }
      ]
    },
    {
      "cell_type": "markdown",
      "source": [
        "**Εφαρμογή PCA**"
      ],
      "metadata": {
        "id": "PK9j4lcLAtZp"
      }
    },
    {
      "cell_type": "code",
      "execution_count": null,
      "metadata": {
        "id": "srnCZ-zF6owJ"
      },
      "outputs": [],
      "source": [
        "# Προετοιμασία των δεδομένων για PCA\n",
        "def flatten_dataset(dataset):\n",
        "    data = []\n",
        "    labels = []\n",
        "    for img, label in dataset:\n",
        "        img = img.view(-1).numpy()  # Επίπεδη εικόνα\n",
        "        data.append(img)\n",
        "        labels.append(label)\n",
        "    return np.array(data), np.array(labels)\n",
        "\n",
        "# Μετατροπή δεδομένων εκπαίδευσης και δοκιμής σε επίπεδη μορφή\n",
        "x_train, y_train = flatten_dataset(train_dataset)\n",
        "x_test, y_test = flatten_dataset(test_dataset)\n",
        "\n",
        "# Εφαρμογή PCA στα επίπεδα δεδομένα train_dataset και test_dataset\n",
        "pca = PCA(n_components=pca_n_components)\n",
        "x_train = pca.fit_transform(x_train)\n",
        "x_test = pca.transform(x_test)\n",
        "\n",
        "x_train = torch.Tensor(x_train)\n",
        "y_train = torch.LongTensor(y_train)\n",
        "x_test = torch.Tensor(x_test)\n",
        "y_test = torch.LongTensor(y_test)"
      ]
    },
    {
      "cell_type": "markdown",
      "source": [
        "**Δημιουργία Dataloader**"
      ],
      "metadata": {
        "id": "7bhrt9pdAfqF"
      }
    },
    {
      "cell_type": "code",
      "source": [
        "train_loader = DataLoader(TensorDataset(x_train, y_train), batch_size=batch_size, shuffle=True)\n",
        "test_loader = DataLoader(TensorDataset(x_test, y_test), batch_size=batch_size, shuffle=False)"
      ],
      "metadata": {
        "id": "Xx7rw9uVAc_C"
      },
      "execution_count": null,
      "outputs": []
    },
    {
      "cell_type": "markdown",
      "metadata": {
        "id": "XkyY9WNVJoEB"
      },
      "source": [
        "###Κατασκευή του Νευρωνικού Δικτύου MLP"
      ]
    },
    {
      "cell_type": "code",
      "execution_count": 21,
      "metadata": {
        "id": "oHyR8JsDJnAa"
      },
      "outputs": [],
      "source": [
        "class MLP(nn.Module):\n",
        "    def __init__(self):\n",
        "        super(MLP, self).__init__()\n",
        "        # Πρώτο hidden layer (2048 νευρώνες)\n",
        "        #self.fc1 = nn.Linear(pca_n_components, 2048)\n",
        "        self.fc1 = nn.Linear(32*32*3, 2048)\n",
        "        self.bn1 = nn.BatchNorm1d(2048)\n",
        "        # Δεύτερο hidden layer (1024 νευρώνες)\n",
        "        self.fc2 = nn.Linear(2048, 1024)\n",
        "        self.bn2 = nn.BatchNorm1d(1024)\n",
        "        # Τρίτο hidden layer (512 νευρώνες)\n",
        "        self.fc3 = nn.Linear(1024, 512)\n",
        "        self.bn3 = nn.BatchNorm1d(512)\n",
        "        # Τέταρτο hidden layer (256 νευρώνες)\n",
        "        self.fc4 = nn.Linear(512, 256)\n",
        "        self.bn4 = nn.BatchNorm1d(256)\n",
        "        # Output layer\n",
        "        self.fc5 = nn.Linear(256, num_classes)\n",
        "\n",
        "        # Dropout με πιθανότητα p=0.3 για το τέταρτο hidden layer\n",
        "        self.dropout2 = nn.Dropout(p=0.3)\n",
        "        # Activation Function: ReLU\n",
        "        self.relu = nn.ReLU()\n",
        "        # Αρχικοποίηση βαρών\n",
        "        self.apply(self._initialize_weights)\n",
        "\n",
        "    def forward(self, x):\n",
        "        # Επίπεδη μορφή του input\n",
        "        x = x.view(-1, 32 * 32 * 3)\n",
        "        # Εφαρμογή του πρώτου hidden layer\n",
        "        x = self.bn1(self.fc1(x))\n",
        "        x = self.relu(x)\n",
        "        # Εφαρμογή του δεύτερου hidden layer\n",
        "        x = self.bn2(self.fc2(x))\n",
        "        x = self.relu(x)\n",
        "        # Εφαρμογή του τρίτου hidden layer\n",
        "        x = self.bn3(self.fc3(x))\n",
        "        x = self.relu(x)\n",
        "        # Εφαρμογή του τέταρτου hidden layer\n",
        "        x = self.bn4(self.fc4(x))\n",
        "        x = self.relu(x)\n",
        "        x = self.dropout2(x)\n",
        "        # Output layer\n",
        "        x = self.fc5(x)\n",
        "        return x\n",
        "\n",
        "    # Αρχικοποίηση βαρών: He initialization\n",
        "    def _initialize_weights(self, m):\n",
        "        if isinstance(m, nn.Linear):\n",
        "            init.kaiming_normal_(m.weight, nonlinearity='relu')\n",
        "            if m.bias is not None:\n",
        "                init.constant_(m.bias, 0)"
      ]
    },
    {
      "cell_type": "markdown",
      "metadata": {
        "id": "j0aeOzc2J5AY"
      },
      "source": [
        "**Αρχικοποίηση δικτύου, loss function και optimizer**"
      ]
    },
    {
      "cell_type": "code",
      "execution_count": 22,
      "metadata": {
        "id": "gI1Hb4CwJ0e8"
      },
      "outputs": [],
      "source": [
        "# Αρχικοποίηση μοντέλου\n",
        "model = MLP()\n",
        "# Loss Function: Cross Entropy Loss\n",
        "criterion = nn.CrossEntropyLoss()\n",
        "# Optimizer: συνάρτηση Adam\n",
        "optimizer = optim.Adam(model.parameters(), lr=learning_rate)"
      ]
    },
    {
      "cell_type": "markdown",
      "metadata": {
        "id": "mSITTFEAKHSx"
      },
      "source": [
        "###Εκπαίδευση του δικτύου"
      ]
    },
    {
      "cell_type": "markdown",
      "source": [
        "**Validation σε κάθε εποχή**"
      ],
      "metadata": {
        "id": "WxtlnTCxNKOH"
      }
    },
    {
      "cell_type": "code",
      "source": [
        "def validation(model, test_loader):\n",
        "    model.eval()\n",
        "    test_running_loss = 0.0\n",
        "\n",
        "    all_labels = []\n",
        "    all_predictions = []\n",
        "    with torch.no_grad():\n",
        "        for images, labels in test_loader:\n",
        "            outputs = model(images)\n",
        "            loss = criterion(outputs, labels)\n",
        "            test_running_loss += loss.item()\n",
        "            max, predicted = torch.max(outputs, 1)\n",
        "            all_labels.extend(labels.cpu().numpy())\n",
        "            all_predictions.extend(predicted.cpu().numpy())\n",
        "\n",
        "        # Τρέχον accuracy εποχής στο test set\n",
        "        test_epoch_accuracy = accuracy_score(all_labels, all_predictions)\n",
        "        test_accuracies.append(test_epoch_accuracy)\n",
        "\n",
        "    # Μέσο test loss εποχής\n",
        "    test_epoch_loss = test_running_loss / len(test_loader)\n",
        "\n",
        "    return test_epoch_loss, test_epoch_accuracy"
      ],
      "metadata": {
        "id": "RymNUhNNK-l0"
      },
      "execution_count": 23,
      "outputs": []
    },
    {
      "cell_type": "markdown",
      "source": [
        "**Εκπαίδευση δικτύου**"
      ],
      "metadata": {
        "id": "u2tyzfXENg5d"
      }
    },
    {
      "cell_type": "code",
      "execution_count": 24,
      "metadata": {
        "colab": {
          "base_uri": "https://localhost:8080/"
        },
        "id": "lsfYmn-gKG9R",
        "outputId": "3c55fb16-9d68-42c8-c814-324100fcc8e2"
      },
      "outputs": [
        {
          "output_type": "stream",
          "name": "stderr",
          "text": [
            "Epoch 1/50: 100%|██████████| 1000/1000 [02:12<00:00,  7.56batch/s, accuracy=0.346, loss=1.83]\n"
          ]
        },
        {
          "output_type": "stream",
          "name": "stdout",
          "text": [
            "Epoch [1/50] Train Loss: 1.8331, Test Loss: 1.5945, Train Accuracy: 34.58%, Test Accuracy: 42.83%, Learning rate: 0.001000\n"
          ]
        },
        {
          "output_type": "stream",
          "name": "stderr",
          "text": [
            "Epoch 2/50: 100%|██████████| 1000/1000 [02:10<00:00,  7.66batch/s, accuracy=0.44, loss=1.56]\n"
          ]
        },
        {
          "output_type": "stream",
          "name": "stdout",
          "text": [
            "Epoch [2/50] Train Loss: 1.5645, Test Loss: 1.5328, Train Accuracy: 43.96%, Test Accuracy: 45.43%, Learning rate: 0.001000\n"
          ]
        },
        {
          "output_type": "stream",
          "name": "stderr",
          "text": [
            "Epoch 3/50: 100%|██████████| 1000/1000 [02:09<00:00,  7.70batch/s, accuracy=0.473, loss=1.48]\n"
          ]
        },
        {
          "output_type": "stream",
          "name": "stdout",
          "text": [
            "Epoch [3/50] Train Loss: 1.4798, Test Loss: 1.4569, Train Accuracy: 47.32%, Test Accuracy: 47.94%, Learning rate: 0.001000\n"
          ]
        },
        {
          "output_type": "stream",
          "name": "stderr",
          "text": [
            "Epoch 4/50: 100%|██████████| 1000/1000 [02:11<00:00,  7.62batch/s, accuracy=0.491, loss=1.43]\n"
          ]
        },
        {
          "output_type": "stream",
          "name": "stdout",
          "text": [
            "Epoch [4/50] Train Loss: 1.4259, Test Loss: 1.4219, Train Accuracy: 49.13%, Test Accuracy: 49.50%, Learning rate: 0.001000\n"
          ]
        },
        {
          "output_type": "stream",
          "name": "stderr",
          "text": [
            "Epoch 5/50: 100%|██████████| 1000/1000 [02:09<00:00,  7.70batch/s, accuracy=0.513, loss=1.37]\n"
          ]
        },
        {
          "output_type": "stream",
          "name": "stdout",
          "text": [
            "Epoch [5/50] Train Loss: 1.3699, Test Loss: 1.4186, Train Accuracy: 51.32%, Test Accuracy: 49.74%, Learning rate: 0.001000\n"
          ]
        },
        {
          "output_type": "stream",
          "name": "stderr",
          "text": [
            "Epoch 6/50: 100%|██████████| 1000/1000 [02:16<00:00,  7.33batch/s, accuracy=0.526, loss=1.33]\n"
          ]
        },
        {
          "output_type": "stream",
          "name": "stdout",
          "text": [
            "Epoch [6/50] Train Loss: 1.3281, Test Loss: 1.3655, Train Accuracy: 52.62%, Test Accuracy: 52.01%, Learning rate: 0.001000\n"
          ]
        },
        {
          "output_type": "stream",
          "name": "stderr",
          "text": [
            "Epoch 7/50: 100%|██████████| 1000/1000 [02:21<00:00,  7.07batch/s, accuracy=0.542, loss=1.29]\n"
          ]
        },
        {
          "output_type": "stream",
          "name": "stdout",
          "text": [
            "Epoch [7/50] Train Loss: 1.2863, Test Loss: 1.3516, Train Accuracy: 54.20%, Test Accuracy: 51.81%, Learning rate: 0.001000\n"
          ]
        },
        {
          "output_type": "stream",
          "name": "stderr",
          "text": [
            "Epoch 8/50: 100%|██████████| 1000/1000 [02:19<00:00,  7.14batch/s, accuracy=0.556, loss=1.24]\n"
          ]
        },
        {
          "output_type": "stream",
          "name": "stdout",
          "text": [
            "Epoch [8/50] Train Loss: 1.2387, Test Loss: 1.3429, Train Accuracy: 55.60%, Test Accuracy: 52.62%, Learning rate: 0.001000\n"
          ]
        },
        {
          "output_type": "stream",
          "name": "stderr",
          "text": [
            "Epoch 9/50: 100%|██████████| 1000/1000 [02:16<00:00,  7.34batch/s, accuracy=0.571, loss=1.2]\n"
          ]
        },
        {
          "output_type": "stream",
          "name": "stdout",
          "text": [
            "Epoch [9/50] Train Loss: 1.1998, Test Loss: 1.3185, Train Accuracy: 57.08%, Test Accuracy: 53.33%, Learning rate: 0.001000\n"
          ]
        },
        {
          "output_type": "stream",
          "name": "stderr",
          "text": [
            "Epoch 10/50: 100%|██████████| 1000/1000 [02:25<00:00,  6.89batch/s, accuracy=0.582, loss=1.16]\n"
          ]
        },
        {
          "output_type": "stream",
          "name": "stdout",
          "text": [
            "Epoch [10/50] Train Loss: 1.1642, Test Loss: 1.3249, Train Accuracy: 58.18%, Test Accuracy: 53.43%, Learning rate: 0.001000\n"
          ]
        },
        {
          "output_type": "stream",
          "name": "stderr",
          "text": [
            "Epoch 11/50: 100%|██████████| 1000/1000 [02:20<00:00,  7.13batch/s, accuracy=0.628, loss=1.04]\n"
          ]
        },
        {
          "output_type": "stream",
          "name": "stdout",
          "text": [
            "Epoch [11/50] Train Loss: 1.0385, Test Loss: 1.2712, Train Accuracy: 62.76%, Test Accuracy: 56.36%, Learning rate: 0.000500\n"
          ]
        },
        {
          "output_type": "stream",
          "name": "stderr",
          "text": [
            "Epoch 12/50: 100%|██████████| 1000/1000 [02:39<00:00,  6.28batch/s, accuracy=0.645, loss=0.987]\n"
          ]
        },
        {
          "output_type": "stream",
          "name": "stdout",
          "text": [
            "Epoch [12/50] Train Loss: 0.9870, Test Loss: 1.2776, Train Accuracy: 64.53%, Test Accuracy: 56.11%, Learning rate: 0.000500\n"
          ]
        },
        {
          "output_type": "stream",
          "name": "stderr",
          "text": [
            "Epoch 13/50: 100%|██████████| 1000/1000 [02:46<00:00,  6.02batch/s, accuracy=0.659, loss=0.945]\n"
          ]
        },
        {
          "output_type": "stream",
          "name": "stdout",
          "text": [
            "Epoch [13/50] Train Loss: 0.9447, Test Loss: 1.2765, Train Accuracy: 65.90%, Test Accuracy: 56.55%, Learning rate: 0.000500\n"
          ]
        },
        {
          "output_type": "stream",
          "name": "stderr",
          "text": [
            "Epoch 14/50: 100%|██████████| 1000/1000 [02:43<00:00,  6.12batch/s, accuracy=0.674, loss=0.902]\n"
          ]
        },
        {
          "output_type": "stream",
          "name": "stdout",
          "text": [
            "Epoch [14/50] Train Loss: 0.9022, Test Loss: 1.2862, Train Accuracy: 67.39%, Test Accuracy: 57.12%, Learning rate: 0.000500\n",
            "Early stopping at epoch 14 as test loss did not improve for 3 consecutive epochs.\n",
            "\n",
            "Training time: 2143.79 seconds\n"
          ]
        }
      ],
      "source": [
        "# Ορισμός του scheduler για το learning rate\n",
        "scheduler = optim.lr_scheduler.StepLR(optimizer, step_size=10, gamma=0.5)\n",
        "\n",
        "# Κρατάμε το accuracy στα δεδομένα του train set σε κάθε batch\n",
        "train_accuracies = []\n",
        "# Κρατάμε το accuracy στα δεδομένα του test set σε κάθε batch\n",
        "test_accuracies = []\n",
        "\n",
        "# Καλύτερο test loss μέχρι στιγμής\n",
        "best_test_loss = 10\n",
        "# Μετράει τις εποχές χωρίς βελτίωση\n",
        "no_improvement_epochs = 0\n",
        "\n",
        "start_time = time.time()\n",
        "\n",
        "for epoch in range(num_epochs):\n",
        "    train_running_loss = 0.0\n",
        "\n",
        "    # Αρχικοποίηση της μπάρας προόδου σε κάθε εποχή\n",
        "    progress_bar = tqdm(train_loader, desc=f'Epoch {epoch+1}/{num_epochs}', unit='batch')\n",
        "\n",
        "    correct_preds = 0\n",
        "    total_samples = 0\n",
        "    for images, labels in progress_bar:\n",
        "        # Forward pass\n",
        "        outputs = model(images)\n",
        "        # Υπολογισμός κόστους (loss)\n",
        "        loss = criterion(outputs, labels)\n",
        "        # Μηδενισμός των gradients\n",
        "        optimizer.zero_grad()\n",
        "        # Backward pass\n",
        "        loss.backward()\n",
        "        # Ενημέρωση των βαρών βάσει των υπολογισμένων gradients\n",
        "        optimizer.step()\n",
        "        # Ανανέωση τρέχοντος κόστους εποχής\n",
        "        train_running_loss += loss.item()\n",
        "\n",
        "        # Υπολογισμός σωστών προβλέψεων στο train set για την εύρεση του batch accuracy\n",
        "        max, predicted = torch.max(outputs, 1)\n",
        "        correct_preds += (predicted == labels).sum().item()\n",
        "        total_samples += labels.size(0)\n",
        "        # accuracy του batch στο train set\n",
        "        train_batch_accuracy = correct_preds / total_samples\n",
        "\n",
        "        # Ενημέρωση progress bar\n",
        "        progress_bar.set_postfix(loss=train_running_loss / len(train_loader), accuracy=train_batch_accuracy)\n",
        "\n",
        "    # accuracy εποχής στο train set\n",
        "    train_epoch_accuracy = correct_preds / total_samples\n",
        "    train_accuracies.append(train_epoch_accuracy)\n",
        "    # Μέσο train loss εποχής\n",
        "    train_epoch_loss = train_running_loss / len(train_loader)\n",
        "\n",
        "    # accuracy εποχής στο test set και μέσο test loss εποχής\n",
        "    test_epoch_loss, test_epoch_accuracy = validation(model, test_loader)\n",
        "\n",
        "    # learning rate εποχής\n",
        "    epoch_lr = optimizer.param_groups[0]['lr']\n",
        "\n",
        "    print(f'Epoch [{epoch+1}/{num_epochs}]',\n",
        "          f'Train Loss: {train_epoch_loss:.4f},',\n",
        "          f'Test Loss: {test_epoch_loss:.4f},',\n",
        "          f'Train Accuracy: {100 * train_epoch_accuracy:.2f}%,',\n",
        "          f'Test Accuracy: {100 * test_epoch_accuracy:.2f}%,',\n",
        "          f'Learning rate: {epoch_lr:.6f}')\n",
        "\n",
        "    # Early stopping: Έλεγχος αν το test accuracy βελτιώθηκε\n",
        "    if test_epoch_loss < best_test_loss:\n",
        "        best_test_loss = test_epoch_loss\n",
        "        no_improvement_epochs = 0\n",
        "    else:\n",
        "        no_improvement_epochs += 1\n",
        "    # Αν το test accuracy δεν έχει βελτιωθεί για 3 εποχές, τερματίζουμε την εκπαίδευση\n",
        "    if no_improvement_epochs >= early_stop_patience:\n",
        "        print(f\"Early stopping at epoch {epoch+1} as test loss did not improve for {early_stop_patience} consecutive epochs.\")\n",
        "        break\n",
        "\n",
        "    # Μείωση του learning rate κάθε φορά που το loss δεν βελτιώνεται πάνω από 0.02\n",
        "    #if previous_loss is not None and (previous_loss - epoch_loss) <= 0.02:\n",
        "        #scheduler.step()\n",
        "    # Ενημέρωση του previous_loss για την επόμενη εποχή\n",
        "    #previous_loss = epoch_loss\n",
        "\n",
        "    # Ενημέρωση του learning rate\n",
        "    scheduler.step()\n",
        "\n",
        "end_time = time.time()\n",
        "print()\n",
        "print(f'Training time: {end_time - start_time:.2f} seconds')"
      ]
    },
    {
      "cell_type": "markdown",
      "metadata": {
        "id": "vyAcOuYiKgIY"
      },
      "source": [
        "###Αξιολόγηση απόδοσης"
      ]
    },
    {
      "cell_type": "markdown",
      "metadata": {
        "id": "fp67DB24TBwA"
      },
      "source": [
        "**Αξιολόγηση στα δεδομένα του test set.**"
      ]
    },
    {
      "cell_type": "code",
      "execution_count": 25,
      "metadata": {
        "colab": {
          "base_uri": "https://localhost:8080/"
        },
        "id": "vb7iq-ktKrTv",
        "outputId": "2c477321-7a65-417e-c087-831edc64f5dc"
      },
      "outputs": [
        {
          "output_type": "stream",
          "name": "stdout",
          "text": [
            "Accuracy: 56.96%\n",
            "Precision: 57.21%\n",
            "Recall: 56.96%\n",
            "F1 Score: 57.02%\n"
          ]
        }
      ],
      "source": [
        "all_labels = []\n",
        "all_predictions = []\n",
        "\n",
        "with torch.no_grad():\n",
        "    for images, labels in test_loader:\n",
        "      # Πρόβλεψη κλάσης\n",
        "      outputs = model(images)\n",
        "\n",
        "      # Υπολογίζουμε το μέγιστο κατά μήκος του άξονα των κλάσεων (axis 1), έτσι ώστε για κάθε εικόνα να επιστρέψει τη θέση της κλάσης με την υψηλότερη πιθανότητα.\n",
        "      # Το predicted θα περιέχει έναν πίνακα με τους δείκτες (indices) της κλάσης με την υψηλότερη πιθανότητα για κάθε δείγμα του batch.\n",
        "      max, predicted = torch.max(outputs.data, 1)\n",
        "\n",
        "      # Προσθήκη των ετικετών, δηλαδή του y_test του κάθε δείγματος σε λίστα\n",
        "      all_labels.extend(labels.cpu().numpy())\n",
        "      # Προσθήκη των προβλέψεων, δηλαδή του y_pred σε λίστα\n",
        "      all_predictions.extend(predicted.cpu().numpy())\n",
        "\n",
        "# Υπολογισμός μετρικών\n",
        "accuracy = accuracy_score(all_labels, all_predictions)\n",
        "precision = precision_score(all_labels, all_predictions, average='weighted')\n",
        "recall = recall_score(all_labels, all_predictions, average='weighted')\n",
        "f1 = f1_score(all_labels, all_predictions, average='weighted')\n",
        "\n",
        "# Εκτύπωση μετρικών\n",
        "print(f'Accuracy: {100 * accuracy:.2f}%')\n",
        "print(f'Precision: {100 * precision:.2f}%')\n",
        "print(f'Recall: {100 * recall:.2f}%')\n",
        "print(f'F1 Score: {100 * f1:.2f}%')"
      ]
    },
    {
      "cell_type": "markdown",
      "metadata": {
        "id": "T2an9Vg5TIYD"
      },
      "source": [
        "**Αξιολόγηση στα δεδομένα του train set.**"
      ]
    },
    {
      "cell_type": "code",
      "execution_count": 26,
      "metadata": {
        "colab": {
          "base_uri": "https://localhost:8080/"
        },
        "id": "F3hT79emTN1z",
        "outputId": "9176b1fb-4531-41ac-ffe7-e00ebcc24795"
      },
      "outputs": [
        {
          "output_type": "stream",
          "name": "stdout",
          "text": [
            "Accuracy: 70.31%\n",
            "Precision: 70.42%\n",
            "Recall: 70.31%\n",
            "F1 Score: 70.32%\n"
          ]
        }
      ],
      "source": [
        "all_labels = []\n",
        "all_predictions = []\n",
        "\n",
        "with torch.no_grad():\n",
        "    for images, labels in train_loader:\n",
        "      # Πρόβλεψη κλάσης\n",
        "      outputs = model(images)\n",
        "\n",
        "      # Υπολογίζουμε το μέγιστο κατά μήκος του άξονα των κλάσεων (axis 1), έτσι ώστε για κάθε εικόνα να επιστρέψει τη θέση της κλάσης με την υψηλότερη πιθανότητα.\n",
        "      # Το predicted θα περιέχει έναν πίνακα με τους δείκτες (indices) της κλάσης με την υψηλότερη πιθανότητα για κάθε δείγμα του batch.\n",
        "      max, predicted = torch.max(outputs.data, 1)\n",
        "\n",
        "      # Προσθήκη των ετικετών, δηλαδή του y_train του κάθε δείγματος σε λίστα\n",
        "      all_labels.extend(labels.cpu().numpy())\n",
        "      # Προσθήκη των προβλέψεων, δηλαδή του y_pred σε λίστα\n",
        "      all_predictions.extend(predicted.cpu().numpy())\n",
        "\n",
        "# Υπολογισμός μετρικών\n",
        "accuracy = accuracy_score(all_labels, all_predictions)\n",
        "precision = precision_score(all_labels, all_predictions, average='weighted')\n",
        "recall = recall_score(all_labels, all_predictions, average='weighted')\n",
        "f1 = f1_score(all_labels, all_predictions, average='weighted')\n",
        "\n",
        "# Εκτύπωση μετρικών\n",
        "print(f'Accuracy: {100 * accuracy:.2f}%')\n",
        "print(f'Precision: {100 * precision:.2f}%')\n",
        "print(f'Recall: {100 * recall:.2f}%')\n",
        "print(f'F1 Score: {100 * f1:.2f}%')"
      ]
    },
    {
      "cell_type": "markdown",
      "metadata": {
        "id": "DKsR2Fgrgv4u"
      },
      "source": [
        "**Γράφημα accuracy ανά εποχή**"
      ]
    },
    {
      "cell_type": "code",
      "execution_count": 27,
      "metadata": {
        "colab": {
          "base_uri": "https://localhost:8080/",
          "height": 564
        },
        "id": "Sy2nhxASci4C",
        "outputId": "41403480-0821-42ea-d5d7-740f56c599cd"
      },
      "outputs": [
        {
          "output_type": "display_data",
          "data": {
            "text/plain": [
              "<Figure size 1200x600 with 1 Axes>"
            ],
            "image/png": "[encoded data removed]"
          },
          "metadata": {}
        }
      ],
      "source": [
        "# Απεικόνιση γραφήματος για το train και test accuracy ανά εποχή\n",
        "plt.figure(figsize=(12, 6))\n",
        "plt.plot(train_accuracies, label='Train Accuracy', color='blue', alpha=0.7, marker='o')\n",
        "plt.plot(test_accuracies, label='Test Accuracy', color='orange', alpha=0.7, marker='o')\n",
        "plt.xlabel('Epochs')\n",
        "plt.ylabel('Accuracy (%)')\n",
        "plt.title('Train and Test Accuracy per Epoch')\n",
        "plt.legend()\n",
        "plt.show()"
      ]
    }
  ],
  "metadata": {
    "colab": {
      "collapsed_sections": [
        "MLcaou2rEOSO",
        "nDj1EZwMEXgE",
        "WcsaNFGD-s1K"
      ],
      "provenance": []
    },
    "kernelspec": {
      "display_name": "Python 3",
      "name": "python3"
    },
    "language_info": {
      "name": "python"
    }
  },
  "nbformat": 4,
  "nbformat_minor": 0
}
